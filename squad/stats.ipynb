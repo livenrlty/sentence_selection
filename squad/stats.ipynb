{
 "cells": [
  {
   "cell_type": "code",
   "execution_count": 18,
   "metadata": {},
   "outputs": [],
   "source": [
    "%matplotlib inline\n",
    "\n",
    "import collections\n",
    "import numpy as np\n",
    "import json\n",
    "from pprint import pprint\n",
    "import matplotlib\n",
    "import numpy as np\n",
    "import matplotlib.pyplot as plt\n",
    "import sys"
   ]
  },
  {
   "cell_type": "code",
   "execution_count": 19,
   "metadata": {},
   "outputs": [],
   "source": [
    "sys.path.append('tools/')\n",
    "import tools"
   ]
  },
  {
   "cell_type": "code",
   "execution_count": 20,
   "metadata": {},
   "outputs": [],
   "source": [
    "data = json.load(open('dev-v1.1.json'))\n",
    "data = data['data']\n"
   ]
  },
  {
   "cell_type": "code",
   "execution_count": 21,
   "metadata": {},
   "outputs": [],
   "source": [
    "stats = dict()\n",
    "\n",
    "for title in data:\n",
    "    for paragraph in title['paragraphs']:\n",
    "        context = paragraph['context']\n",
    "        context_list = tools.split_into_sentences(context)\n",
    "        lenght = len(context_list)\n",
    "        \n",
    "        if lenght not in stats.keys():\n",
    "            stats[lenght] = 1\n",
    "        else:\n",
    "            stats[lenght] += 1\n",
    "            \n",
    "all_count = sum(stats.values())\n",
    "le3 = 0\n",
    "le5 = 0\n",
    "\n",
    "for i in stats.keys():\n",
    "    if i <= 3:\n",
    "        le3 += stats[i]\n",
    "    if i <= 5:\n",
    "        le5 += stats[i]"
   ]
  },
  {
   "cell_type": "code",
   "execution_count": 36,
   "metadata": {},
   "outputs": [
    {
     "data": {
      "image/png": "[encoded data removed]",
      "text/plain": [
       "<matplotlib.figure.Figure at 0x7f2441ee09e8>"
      ]
     },
     "metadata": {},
     "output_type": "display_data"
    }
   ],
   "source": [
    "dark_blue = '#3C658F'\n",
    "\n",
    "plt.figure(figsize=(10,7))\n",
    "plt.bar(stats.keys(), stats.values(), 0.95, color=dark_blue)\n",
    "plt.savefig('lenght_distribution.png')\n",
    "plt.show()"
   ]
  },
  {
   "cell_type": "code",
   "execution_count": 39,
   "metadata": {},
   "outputs": [
    {
     "data": {
      "image/png": "[encoded data removed]",
      "text/plain": [
       "<matplotlib.figure.Figure at 0x7f2441de64a8>"
      ]
     },
     "metadata": {},
     "output_type": "display_data"
    }
   ],
   "source": [
    "dark_blue = '#3C658F'\n",
    "light_yellow = '#DCA552'\n",
    "\n",
    "plt.figure(figsize=(6,6))\n",
    "plt.bar(['$\\leq 3$', '$> 3$'], [le3/all_count, (all_count - le3)/all_count], 0.95, color=dark_blue)\n",
    "plt.bar(['$\\leq 5$', '$> 5$'], [le5/all_count, (all_count - le5)/all_count], 0.95, color=light_yellow)\n",
    "plt.savefig('thres_lenght.png')\n",
    "plt.show()"
   ]
  },
  {
   "cell_type": "code",
   "execution_count": 24,
   "metadata": {},
   "outputs": [
    {
     "data": {
      "text/plain": [
       "{1: 52,\n",
       " 2: 153,\n",
       " 3: 296,\n",
       " 4: 452,\n",
       " 5: 401,\n",
       " 6: 253,\n",
       " 7: 164,\n",
       " 8: 116,\n",
       " 9: 67,\n",
       " 10: 32,\n",
       " 11: 22,\n",
       " 12: 22,\n",
       " 13: 11,\n",
       " 14: 6,\n",
       " 15: 3,\n",
       " 16: 6,\n",
       " 17: 3,\n",
       " 18: 3,\n",
       " 19: 1,\n",
       " 20: 2,\n",
       " 23: 1,\n",
       " 28: 1}"
      ]
     },
     "execution_count": 24,
     "metadata": {},
     "output_type": "execute_result"
    }
   ],
   "source": [
    "stats"
   ]
  },
  {
   "cell_type": "code",
   "execution_count": null,
   "metadata": {},
   "outputs": [],
   "source": []
  }
 ],
 "metadata": {
  "kernelspec": {
   "display_name": "Python 3",
   "language": "python",
   "name": "python3"
  },
  "language_info": {
   "codemirror_mode": {
    "name": "ipython",
    "version": 3
   },
   "file_extension": ".py",
   "mimetype": "text/x-python",
   "name": "python",
   "nbconvert_exporter": "python",
   "pygments_lexer": "ipython3",
   "version": "3.6.4"
  }
 },
 "nbformat": 4,
 "nbformat_minor": 2
}
